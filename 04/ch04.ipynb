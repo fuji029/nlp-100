{
 "cells": [
  {
   "cell_type": "markdown",
   "metadata": {},
   "source": [
    "# 第4章: 形態素解析\n",
    "\n",
    "夏目漱石の小説『吾輩は猫である』の文章（[neko.txt](./neko.txt)）をMeCabを使って形態素解析し，その結果をneko.txt.mecabというファイルに保存せよ．このファイルを用いて，以下の問に対応するプログラムを実装せよ．\n",
    "\n",
    "なお，問題37, 38, 39は[matplotlib](http://matplotlib.org/)もしくは[Gnuplot](http://www.gnuplot.info/)を用いるとよい．"
   ]
  },
  {
   "cell_type": "code",
   "execution_count": 30,
   "metadata": {},
   "outputs": [
    {
     "name": "stdout",
     "output_type": "stream",
     "text": [
      "吾輩\tワガハイ\tワガハイ\t我が輩\t代名詞\t\t\t0\n",
      "は\tワ\tハ\tは\t助詞-係助詞\t\t\t\n",
      "猫\tネコ\tネコ\t猫\t名詞-普通名詞-一般\t\t\t1\n",
      "で\tデ\tダ\tだ\t助動詞\t助動詞-ダ\t連用形-一般\t\n",
      "ある\tアル\tアル\t有る\t動詞-非自立可能\t五段-ラ行\t終止形-一般\t1\n",
      "。\t\t\t。\t補助記号-句点\t\t\t\n",
      "EOS\n",
      "\n"
     ]
    }
   ],
   "source": [
    "import MeCab\n",
    "tagger = MeCab.Tagger()\n",
    "print(tagger.parse(\"吾輩は猫である。\"))"
   ]
  },
  {
   "cell_type": "code",
   "execution_count": 31,
   "metadata": {},
   "outputs": [],
   "source": [
    "import MeCab\n",
    "\n",
    "with open(\"neko.txt\", \"r\") as f:\n",
    "    lines = f.read().rstrip().split(\"\\n\")\n",
    "\n",
    "tagger = MeCab.Tagger()\n",
    "\n",
    "result = []\n",
    "for line in lines:\n",
    "    result.append(tagger.parse(line))\n",
    "\n",
    "with open(\"neko.txt.mecab\", \"w\") as f:\n",
    "    f.writelines(result)"
   ]
  },
  {
   "cell_type": "markdown",
   "metadata": {},
   "source": [
    "## 30. 形態素解析結果の読み込み\n",
    "\n",
    "形態素解析結果（neko.txt.mecab）を読み込むプログラムを実装せよ．ただし，各形態素は表層形（surface），基本形（base），品詞（pos），品詞細分類1（pos1）をキーとするマッピング型に格納し，1文を形態素（マッピング型）のリストとして表現せよ．第4章の残りの問題では，ここで作ったプログラムを活用せよ．"
   ]
  },
  {
   "cell_type": "code",
   "execution_count": 32,
   "metadata": {},
   "outputs": [
    {
     "name": "stdout",
     "output_type": "stream",
     "text": [
      "[[{'base': '一', 'pos': '名詞', 'pos1': '数詞', 'surface': '一'}],\n",
      " [{'base': '我が輩', 'pos': '代名詞', 'pos1': '*', 'surface': '吾輩'},\n",
      "  {'base': 'は', 'pos': '助詞', 'pos1': '係助詞', 'surface': 'は'},\n",
      "  {'base': '猫', 'pos': '名詞', 'pos1': '普通名詞', 'surface': '猫'},\n",
      "  {'base': 'だ', 'pos': '助動詞', 'pos1': '*', 'surface': 'で'},\n",
      "  {'base': '有る', 'pos': '動詞', 'pos1': '非自立可能', 'surface': 'ある'},\n",
      "  {'base': '。', 'pos': '補助記号', 'pos1': '句点', 'surface': '。'}],\n",
      " [{'base': '名前', 'pos': '名詞', 'pos1': '普通名詞', 'surface': '名前'},\n",
      "  {'base': 'は', 'pos': '助詞', 'pos1': '係助詞', 'surface': 'は'},\n",
      "  {'base': '未だ', 'pos': '副詞', 'pos1': '*', 'surface': 'まだ'},\n",
      "  {'base': '無い', 'pos': '形容詞', 'pos1': '非自立可能', 'surface': '無い'},\n",
      "  {'base': '。', 'pos': '補助記号', 'pos1': '句点', 'surface': '。'}]]\n"
     ]
    }
   ],
   "source": [
    "with open(\"neko.txt.mecab\", \"r\") as f:\n",
    "    lines = f.read().rstrip().split(\"\\n\")\n",
    "\n",
    "POS_list = []\n",
    "l = []\n",
    "for line in lines:\n",
    "    dic = {}\n",
    "    if(line == \"EOS\"):\n",
    "        if(len(l)):\n",
    "            POS_list.append(l)\n",
    "        l = []\n",
    "    else: \n",
    "        line = line.split(\"\\t\", 5)\n",
    "        dic[\"surface\"] = line[0]\n",
    "        dic[\"base\"] = line[3]\n",
    "        pos = line[4].split(\"-\")\n",
    "        dic[\"pos\"] = pos[0]\n",
    "        try:\n",
    "            dic[\"pos1\"] = pos[1]\n",
    "        except:\n",
    "            dic[\"pos1\"] = \"*\"\n",
    "        if(dic[\"pos\"] == \"空白\"):\n",
    "            continue\n",
    "        l.append(dic)\n",
    "\n",
    "from pprint import pprint\n",
    "pprint(POS_list[:3])"
   ]
  },
  {
   "cell_type": "markdown",
   "metadata": {},
   "source": [
    "## 31. 動詞\n",
    "動詞の表層形をすべて抽出せよ．"
   ]
  },
  {
   "cell_type": "code",
   "execution_count": 33,
   "metadata": {},
   "outputs": [
    {
     "name": "stdout",
     "output_type": "stream",
     "text": [
      "['卒え', '廻れ', 'つとめ', '終え', '激し', '限っ', '留め', '叫び', '跳ね返し', '切る']\n"
     ]
    }
   ],
   "source": [
    "verb_surface_set = set()\n",
    "for poss in POS_list:\n",
    "    for pos in poss:\n",
    "        if(pos[\"pos\"] == \"動詞\"):\n",
    "            verb_surface_set.add(pos[\"surface\"])\n",
    "pprint(list(verb_surface_set)[:10])"
   ]
  },
  {
   "cell_type": "markdown",
   "metadata": {},
   "source": [
    "## 32. 動詞の基本形\n",
    "動詞の基本形をすべて抽出せよ．"
   ]
  },
  {
   "cell_type": "code",
   "execution_count": 34,
   "metadata": {},
   "outputs": [
    {
     "name": "stdout",
     "output_type": "stream",
     "text": [
      "['刺し通す', '了する', '放り出す', '燻る', '切る', '唱える', '教える', '濡れる', '思い込む', '追い遣る']\n"
     ]
    }
   ],
   "source": [
    "verb_base_set = set()\n",
    "for poss in POS_list:\n",
    "    for pos in poss:\n",
    "        if(pos[\"pos\"] == \"動詞\"):\n",
    "            verb_base_set.add(pos[\"base\"])\n",
    "pprint(list(verb_base_set)[:10])"
   ]
  },
  {
   "cell_type": "markdown",
   "metadata": {},
   "source": [
    "## 33. 「AのB」\n",
    "2つの名詞が「の」で連結されている名詞句を抽出せよ．"
   ]
  },
  {
   "cell_type": "code",
   "execution_count": 35,
   "metadata": {},
   "outputs": [
    {
     "name": "stdout",
     "output_type": "stream",
     "text": [
      "['掌の上', '書生の顔', 'ものの見', 'はずの顔', '顔の真中', '穴の中', '書生の掌', '掌の裏', '藁の上', '笹原の中']\n"
     ]
    }
   ],
   "source": [
    "B_of_A = list()\n",
    "for poss in POS_list:\n",
    "    for i, pos in enumerate(poss):\n",
    "        if(i == 0 or i == len(poss) - 1):\n",
    "            continue\n",
    "        if(pos[\"surface\"] == \"の\" and pos[\"pos1\"] == \"格助詞\"):\n",
    "            if(poss[i-1][\"pos\"] == \"名詞\" and poss[i+1][\"pos\"] == \"名詞\"):\n",
    "                B_of_A.append(poss[i-1][\"surface\"] + pos[\"surface\"] + poss[i+1][\"surface\"])\n",
    "pprint(B_of_A[:10])"
   ]
  },
  {
   "cell_type": "markdown",
   "metadata": {},
   "source": [
    "## 34. 名詞の連接\n",
    "名詞の連接（連続して出現する名詞）を最長一致で抽出せよ．"
   ]
  },
  {
   "cell_type": "code",
   "execution_count": 36,
   "metadata": {},
   "outputs": [
    {
     "name": "stdout",
     "output_type": "stream",
     "text": [
      "['見始', '時妙', '一毛', '後猫', '一度', '上今', 'うち池', '書生以外', '間おさん', '宿なし']\n"
     ]
    }
   ],
   "source": [
    "nouns = []\n",
    "all_pos_list = []\n",
    "for poss in POS_list:\n",
    "    for pos in poss:\n",
    "        all_pos_list.append(pos)\n",
    "for i, pos in enumerate(all_pos_list):\n",
    "    if(pos[\"pos\"] == \"名詞\"):\n",
    "        nouns.append([i, pos[\"surface\"]])\n",
    "\n",
    "result = []\n",
    "flag = [False] * len(nouns)\n",
    "for i in range(len(nouns) - 1):\n",
    "    if(flag[i]):\n",
    "        continue\n",
    "    flag[i] = True\n",
    "    l = [nouns[i][1]]\n",
    "    j = i + 1\n",
    "    idx = nouns[i][0]\n",
    "    while(j < len(nouns) and nouns[j][0] == idx + 1):\n",
    "        l.append(nouns[j][1])\n",
    "        idx = nouns[j][0]\n",
    "        flag[j] = True\n",
    "        j += 1\n",
    "    if(len(l) > 1):\n",
    "        result.append(l)\n",
    "\n",
    "for i in range(len(result)):\n",
    "    result[i] = \"\".join(result[i])\n",
    "\n",
    "pprint(result[:10])"
   ]
  },
  {
   "cell_type": "markdown",
   "metadata": {},
   "source": [
    "## 35. 単語の出現頻度\n",
    "文章中に出現する単語とその出現頻度を求め，出現頻度の高い順に並べよ．"
   ]
  },
  {
   "cell_type": "code",
   "execution_count": 37,
   "metadata": {},
   "outputs": [
    {
     "name": "stdout",
     "output_type": "stream",
     "text": [
      "[['の', 9541],\n",
      " ['。', 7486],\n",
      " ['て', 7418],\n",
      " ['に', 7060],\n",
      " ['、', 6773],\n",
      " ['は', 6501],\n",
      " ['と', 6156],\n",
      " ['を', 6119],\n",
      " ['が', 5394],\n",
      " ['で', 4543]]\n"
     ]
    }
   ],
   "source": [
    "from collections import defaultdict\n",
    "d = defaultdict(int)\n",
    "\n",
    "for pos in all_pos_list:\n",
    "    d[pos[\"surface\"]] += 1\n",
    "\n",
    "sorted_d = sorted(d.items(), key=lambda x:x[1], reverse=True)\n",
    "for i in range(len(sorted_d)):\n",
    "    sorted_d[i] = list(sorted_d[i])\n",
    "pprint(sorted_d[:10])"
   ]
  },
  {
   "cell_type": "markdown",
   "metadata": {},
   "source": [
    "## 36. 頻度上位10語\n",
    "出現頻度が高い10語とその出現頻度をグラフ（例えば棒グラフなど）で表示せよ．"
   ]
  },
  {
   "cell_type": "code",
   "execution_count": 38,
   "metadata": {},
   "outputs": [
    {
     "name": "stderr",
     "output_type": "stream",
     "text": [
      "No artists with labels found to put in legend.  Note that artists whose label start with an underscore are ignored when legend() is called with no argument.\n"
     ]
    },
    {
     "data": {
      "image/png": "[encoded data removed]",
      "text/plain": [
       "<Figure size 640x480 with 1 Axes>"
      ]
     },
     "metadata": {},
     "output_type": "display_data"
    }
   ],
   "source": [
    "import matplotlib.pyplot as plt\n",
    "import japanize_matplotlib\n",
    "\n",
    "top10 = sorted_d[:10]\n",
    "x = [item[0] for item in top10]\n",
    "y = [item[1] for item in top10]\n",
    "\n",
    "plt.bar(x, y)\n",
    "plt.xlabel(\"単語\")\n",
    "plt.ylabel(\"出現頻度\")\n",
    "plt.legend()\n",
    "plt.show()"
   ]
  },
  {
   "cell_type": "markdown",
   "metadata": {},
   "source": [
    "## 37. 「猫」と共起頻度の高い上位10語\n",
    "「猫」とよく共起する（共起頻度が高い）10語とその出現頻度をグラフ（例えば棒グラフなど）で表示せよ．"
   ]
  },
  {
   "cell_type": "code",
   "execution_count": 39,
   "metadata": {},
   "outputs": [
    {
     "name": "stdout",
     "output_type": "stream",
     "text": [
      "[[['ある', '猫'], 83],\n",
      " [['し', '猫'], 77],\n",
      " [['吾輩', '猫'], 53],\n",
      " [['ない', '猫'], 49],\n",
      " [['事', '猫'], 45],\n",
      " [['いる', '猫'], 37],\n",
      " [['人間', '猫'], 34],\n",
      " [['する', '猫'], 31],\n",
      " [['この', '猫'], 30]]\n"
     ]
    }
   ],
   "source": [
    "word_set = []\n",
    "for line in POS_list:\n",
    "    line = [item for item in line if item[\"pos\"] not in [\"補助記号\", \"助詞\", \"助動詞\"]]\n",
    "    l = [item[\"surface\"] for item in line]\n",
    "    if(\"猫\" in l):\n",
    "        word_set.append(set(l))\n",
    "\n",
    "import pyfpgrowth\n",
    "patterns = pyfpgrowth.find_frequent_patterns(word_set, 30)\n",
    "sorted_patterns = sorted(patterns.items(),reverse=True,key=lambda x:x[1])\n",
    "result = []\n",
    "neko_num = sorted_patterns[0][1]\n",
    "for item in sorted_patterns:\n",
    "    if(len(item[0]) == 2 and \"猫\" in item[0]):\n",
    "        result.append([list(item[0]), item[1]])\n",
    "pprint(result)"
   ]
  },
  {
   "cell_type": "code",
   "execution_count": 40,
   "metadata": {},
   "outputs": [
    {
     "name": "stdout",
     "output_type": "stream",
     "text": [
      "['猫', 'ある', 'し', '吾輩', 'ない', '事', 'いる', '人間', 'する', 'この'] [211, 83, 77, 53, 49, 45, 37, 34, 31, 30]\n"
     ]
    },
    {
     "data": {
      "text/plain": [
       "<BarContainer object of 10 artists>"
      ]
     },
     "execution_count": 40,
     "metadata": {},
     "output_type": "execute_result"
    },
    {
     "data": {
      "image/png": "[encoded data removed]",
      "text/plain": [
       "<Figure size 640x480 with 1 Axes>"
      ]
     },
     "metadata": {},
     "output_type": "display_data"
    }
   ],
   "source": [
    "x = [\"猫\"]\n",
    "x.extend([item[0][0] for item in result])\n",
    "y = [neko_num]\n",
    "y.extend([item[1] for item in result])\n",
    "print(x, y)\n",
    "plt.bar(x, y)\n"
   ]
  },
  {
   "cell_type": "markdown",
   "metadata": {},
   "source": [
    "## 38. ヒストグラム\n",
    "単語の出現頻度のヒストグラムを描け．ただし，横軸は出現頻度を表し，1から単語の出現頻度の最大値までの線形目盛とする．縦軸はx軸で示される出現頻度となった単語の異なり数（種類数）である．\n"
   ]
  },
  {
   "cell_type": "code",
   "execution_count": 41,
   "metadata": {},
   "outputs": [
    {
     "data": {
      "image/png": "[encoded data removed]",
      "text/plain": [
       "<Figure size 640x480 with 1 Axes>"
      ]
     },
     "metadata": {},
     "output_type": "display_data"
    }
   ],
   "source": [
    "freqs = [item[1] for item in sorted_d]\n",
    "\n",
    "plt.hist(freqs, bins=100)\n",
    "plt.show()\n"
   ]
  },
  {
   "cell_type": "markdown",
   "metadata": {},
   "source": [
    "## 39. Zipfの法則\n",
    "単語の出現頻度順位を横軸，その出現頻度を縦軸として，両対数グラフをプロットせよ．"
   ]
  },
  {
   "cell_type": "code",
   "execution_count": 42,
   "metadata": {},
   "outputs": [
    {
     "data": {
      "image/png": "[encoded data removed]",
      "text/plain": [
       "<Figure size 640x480 with 1 Axes>"
      ]
     },
     "metadata": {},
     "output_type": "display_data"
    }
   ],
   "source": [
    "plt.scatter(range(1, len(freqs) + 1), freqs)\n",
    "plt.xscale('log')\n",
    "plt.yscale('log')\n",
    "plt.xlabel(\"出現頻度順位\")\n",
    "plt.ylabel(\"出現頻度\")\n",
    "plt.show()"
   ]
  }
 ],
 "metadata": {
  "kernelspec": {
   "display_name": "3.10.8",
   "language": "python",
   "name": "python3"
  },
  "language_info": {
   "codemirror_mode": {
    "name": "ipython",
    "version": 3
   },
   "file_extension": ".py",
   "mimetype": "text/x-python",
   "name": "python",
   "nbconvert_exporter": "python",
   "pygments_lexer": "ipython3",
   "version": "3.10.8"
  }
 },
 "nbformat": 4,
 "nbformat_minor": 2
}
