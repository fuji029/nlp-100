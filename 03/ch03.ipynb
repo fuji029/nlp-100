{
 "cells": [
  {
   "cell_type": "markdown",
   "metadata": {},
   "source": [
    "# 第３章：正規表現\n",
    "\n",
    "Wikipediaの記事を以下のフォーマットで書き出したファイル[jawiki-country.json.gz](./jawiki-country.json.gz)がある．\n",
    "\n",
    "- 1行に1記事の情報がJSON形式で格納される\n",
    "- 各行には記事名が”title”キーに，記事本文が”text”キーの辞書オブジェクトに格納され，そのオブジェクトがJSON形式で書き出される\n",
    "- ファイル全体はgzipで圧縮される\n",
    "\n",
    "以下の処理を行うプログラムを作成せよ．"
   ]
  },
  {
   "cell_type": "markdown",
   "metadata": {},
   "source": [
    "## 20. JSONデータの読み込み\n",
    "\n",
    "Wikipedia記事のJSONファイルを読み込み，「イギリス」に関する記事本文を表示せよ．問題21-29では，ここで抽出した記事本文に対して実行せよ．"
   ]
  },
  {
   "cell_type": "code",
   "execution_count": 49,
   "metadata": {},
   "outputs": [],
   "source": [
    "import json\n",
    "import gzip\n",
    "import os\n",
    "\n",
    "src_path = \"./jawiki-country.json.gz\"\n",
    "trg_path = \"./jawiki-country.json\"\n",
    "\n",
    "# gzipファイルの解凍\n",
    "if(not os.path.isfile(trg_path)):\n",
    "    with gzip.open(src_path, mode=\"rb\") as zip_f:\n",
    "        content = zip_f.read()\n",
    "        with open(trg_path, mode=\"wb\") as f:\n",
    "            f.write(content)\n",
    "\n",
    "\n",
    "# jsonファイルの読み込み\n",
    "with open(trg_path, 'r') as f:\n",
    "    wiki_data = [json.loads(line) for line in f]\n",
    "\n",
    "# タイトルがイギリスのtextを抽出し、ファイルに出力\n",
    "UK_data = [data['text'] for data in wiki_data if data['title'] == \"イギリス\"]\n",
    "UK_data = UK_data[0] if len(UK_data) else None\n",
    "with open(\"wiki_UK.txt\", \"w\", encoding='utf-8') as f:\n",
    "    f.write(UK_data)"
   ]
  },
  {
   "cell_type": "markdown",
   "metadata": {},
   "source": [
    "## 21. カテゴリ名を含む行を抽出\n",
    "\n",
    "記事中でカテゴリ名を宣言している行を抽出せよ．"
   ]
  },
  {
   "cell_type": "code",
   "execution_count": 23,
   "metadata": {},
   "outputs": [
    {
     "name": "stdout",
     "output_type": "stream",
     "text": [
      "[[Category:イギリス|*]]\n",
      "[[Category:イギリス連邦加盟国]]\n",
      "[[Category:英連邦王国|*]]\n",
      "[[Category:G8加盟国]]\n",
      "[[Category:欧州連合加盟国|元]]\n",
      "[[Category:海洋国家]]\n",
      "[[Category:現存する君主国]]\n",
      "[[Category:島国]]\n",
      "[[Category:1801年に成立した国家・領域]]\n"
     ]
    }
   ],
   "source": [
    "# 記事データの読み込み\n",
    "with open(\"./wiki_UK.txt\", \"r\") as f:\n",
    "    lines = f.read().rstrip().split(\"\\n\")\n",
    "\n",
    "# 正規表現でカテゴリ名を抽出\n",
    "from re import match\n",
    "\n",
    "pattern = r'^\\[\\[Category:'\n",
    "categories = []\n",
    "for line in lines:\n",
    "    if(match(pattern, line)):\n",
    "        categories.append(line)\n",
    "\n",
    "print(*categories, sep=\"\\n\")\n",
    "\n",
    "# 結果をファイルに出力\n",
    "with open(\"./wiki_UK_categories.txt\", \"w\") as f:\n",
    "    f.write(\"\\n\".join(categories) + \"\\n\")"
   ]
  },
  {
   "cell_type": "markdown",
   "metadata": {},
   "source": [
    "## 22. カテゴリ名の抽出\n",
    "\n",
    "記事のカテゴリ名を（行単位ではなく名前で）抽出せよ．"
   ]
  },
  {
   "cell_type": "code",
   "execution_count": 6,
   "metadata": {},
   "outputs": [
    {
     "name": "stdout",
     "output_type": "stream",
     "text": [
      "イギリス\n",
      "イギリス連邦加盟国\n",
      "英連邦王国\n",
      "G8加盟国\n",
      "欧州連合加盟国\n",
      "海洋国家\n",
      "現存する君主国\n",
      "島国\n",
      "1801年に成立した国家・領域\n"
     ]
    }
   ],
   "source": [
    "# カテゴリの行を読み込み\n",
    "with open(\"./wiki_UK_categories.txt\", \"r\") as f:\n",
    "    categories = f.read().rstrip().split(\"\\n\")\n",
    "# 正規表現でカテゴリ名を抽出\n",
    "from re import search\n",
    "\n",
    "pattern = r':[^(\\||\\])]+[\\] \\|]'\n",
    "names = []\n",
    "for category in categories:\n",
    "    name = search(pattern, category).group()\n",
    "    if(len(name)):\n",
    "        names.append(name[1:-1])\n",
    "\n",
    "print(*names, sep=\"\\n\")"
   ]
  },
  {
   "cell_type": "markdown",
   "metadata": {},
   "source": [
    "## 23. セクション構造\n",
    "\n",
    "記事中に含まれるセクション名とそのレベル（例えば”== セクション名 ==”なら1）を表示せよ．"
   ]
  },
  {
   "cell_type": "code",
   "execution_count": null,
   "metadata": {},
   "outputs": [
    {
     "name": "stdout",
     "output_type": "stream",
     "text": [
      "1\t国名\n",
      "1\t歴史\n",
      "1\t地理\n",
      "2\t主要都市\n",
      "2\t気候\n",
      "1\t政治\n",
      "2\t元首\n",
      "2\t法\n",
      "2\t内政\n",
      "2\t地方行政区分\n",
      "2\t外交・軍事\n",
      "1\t経済\n",
      "2\t鉱業\n",
      "2\t農業\n",
      "2\t貿易\n",
      "2\t不動産\n",
      "2\tエネルギー政策\n",
      "2\t通貨\n",
      "2\t企業\n",
      "3\t通信\n",
      "1\t交通\n",
      "2\t道路\n",
      "2\t鉄道\n",
      "2\t海運\n",
      "2\t航空\n",
      "1\t科学技術\n",
      "1\t国民\n",
      "2\t言語\n",
      "2\t宗教\n",
      "2\t婚姻\n",
      "2\t移住\n",
      "2\t教育\n",
      "2\t医療\n",
      "1\t文化\n",
      "2\t食文化\n",
      "2\t文学\n",
      "2\t哲学\n",
      "2\t音楽\n",
      "3\tポピュラー音楽\n",
      "2\t映画\n",
      "2\tコメディ\n",
      "2\t国花\n",
      "2\t世界遺産\n",
      "2\t祝祭日\n",
      "2\tスポーツ\n",
      "3\tサッカー\n",
      "3\tクリケット\n",
      "3\t競馬\n",
      "3\tモータースポーツ\n",
      "3\t野球\n",
      "3\t カーリング \n",
      "3\t 自転車競技 \n",
      "1\t脚注\n",
      "1\t関連項目\n",
      "1\t外部リンク\n"
     ]
    }
   ],
   "source": [
    "# 記事データの読み込み\n",
    "with open(\"./wiki_UK.txt\", \"r\") as f:\n",
    "    lines = f.read().rstrip().split(\"\\n\")\n",
    "\n",
    "# 正規表現でセクション名を抽出\n",
    "from re import match\n",
    "\n",
    "pattern = r'={2,}[^=]+={2,}'\n",
    "with open(\"wiki_UK_sections.txt\", \"w\") as f:\n",
    "    for line in lines:\n",
    "        if(match(pattern, line)):\n",
    "            eq_cnt = line.count(\"=\")// 2\n",
    "            level = eq_cnt - 1\n",
    "            section_name = line[eq_cnt:-eq_cnt]\n",
    "            f.write(str(level)+ \"\\t\" + section_name + \"\\n\")\n",
    "            print(level, section_name, sep=\"\\t\")"
   ]
  },
  {
   "cell_type": "markdown",
   "metadata": {},
   "source": [
    "## 24. ファイル参照の抽出\n",
    "\n",
    "記事から参照されているメディアファイルをすべて抜き出せ．"
   ]
  },
  {
   "cell_type": "code",
   "execution_count": 20,
   "metadata": {},
   "outputs": [
    {
     "name": "stdout",
     "output_type": "stream",
     "text": [
      "Royal Coat of Arms of the United Kingdom.svg\n",
      "Descriptio Prime Tabulae Europae.jpg\n",
      "Lenepveu, Jeanne d'Arc au siège d'Orléans.jpg\n",
      "London.bankofengland.arp.jpg\n",
      "Battle of Waterloo 1815.PNG\n",
      "Uk topo en.jpg\n",
      "BenNevis2005.jpg\n",
      "Population density UK 2011 census.png\n",
      "2019 Greenwich Peninsula & Canary Wharf.jpg\n",
      "Leeds CBD at night.jpg\n",
      "Palace of Westminster, London - Feb 2007.jpg\n",
      "Scotland Parliament Holyrood.jpg\n",
      "Soldiers Trooping the Colour, 16th June 2007.jpg\n",
      "City of London skyline from London City Hall - Oct 2008.jpg\n",
      "Oil platform in the North SeaPros.jpg\n",
      "Eurostar at St Pancras Jan 2008.jpg\n",
      "Heathrow Terminal 5C Iwelumo-1.jpg\n",
      "UKpop.svg\n",
      "Anglospeak.svg\n",
      "Royal Aberdeen Children's Hospital.jpg\n",
      "CHANDOS3.jpg\n",
      "The Fabs.JPG\n",
      "Wembley Stadium, illuminated.jpg\n"
     ]
    }
   ],
   "source": [
    "# 記事データの読み込み\n",
    "with open(\"./wiki_UK.txt\", \"r\") as f:\n",
    "    lines = f.read().rstrip().split(\"\\n\")\n",
    "\n",
    "# 正規表現でメディアファイルを抽出\n",
    "from re import search\n",
    "\n",
    "pattern = r'ファイル:[^(\\|)]+\\|'\n",
    "with open(\"wiki_UK_mediafiles.txt\", \"w\") as f:\n",
    "    for line in lines:\n",
    "        media_file = search(pattern, line)\n",
    "        if(media_file):\n",
    "            f.write(media_file.group()[5:-1] + \"\\n\")\n",
    "            print(media_file.group()[5:-1])\n",
    "            "
   ]
  },
  {
   "cell_type": "markdown",
   "metadata": {},
   "source": [
    "## 25. テンプレートの抽出\n",
    "記事中に含まれる「基礎情報」テンプレートのフィールド名と値を抽出し，辞書オブジェクトとして格納せよ．"
   ]
  },
  {
   "cell_type": "code",
   "execution_count": 43,
   "metadata": {},
   "outputs": [
    {
     "name": "stdout",
     "output_type": "stream",
     "text": [
      "日本語国名 = グレートブリテン及び北アイルランド連合王国\n",
      "国旗画像 = Flag of the United Kingdom.svg\n",
      "地図画像 = Europe-UK.svg\n",
      "公用語 = [[英語]]\n",
      "最大都市 = ロンドン\n",
      "元首等氏名 = [[エリザベス2世]]\n",
      "首相等氏名 = [[ボリス・ジョンソン]]\n",
      "面積順位 = 76\n",
      "面積値 = 244,820\n",
      "人口統計年 = 2018\n",
      "人口大きさ = 1 E7\n",
      "人口密度値 = 271\n",
      "GDP値元 = 1兆5478億<ref name=\"imf-statistics-gdp\">[http://www.imf.org/external/pubs/ft/weo/2012/02/weodata/weorept.aspx?pr.x=70&pr.y=13&sy=2010&ey=2012&scsm=1&ssd=1&sort=country&ds=.&br=1&c=112&s=NGDP%2CNGDPD%2CPPPGDP%2CPPPPC&grp=0&a=IMF>Data and Statistics>World Economic Outlook Databases>By Countrise>United Kingdom]</ref>\n",
      "GDP順位MER = 6\n",
      "GDP統計年 = 2012\n",
      "GDP値 = 2兆3162億<ref name=\"imf-statistics-gdp\" />\n",
      "建国形態 = 建国\n",
      "確立年月日1 = 927年／843年\n",
      "確立年月日2 = 1707年{{0}}5月{{0}}1日\n",
      "確立年月日3 = 1801年{{0}}1月{{0}}1日\n",
      "確立年月日4 = 1927年{{0}}4月12日\n",
      "通貨コード = GBP\n",
      "夏時間 = +1\n",
      "ccTLD = [[.uk]] / [[.gb]]<ref>使用は.ukに比べ圧倒的少数。</ref>\n"
     ]
    }
   ],
   "source": [
    "# 記事データの読み込み\n",
    "with open(\"./wiki_UK.txt\", \"r\") as f:\n",
    "    data = f.read()\n",
    "\n",
    "from re import findall\n",
    "\n",
    "pattern = r'\\|.+ = [^\\|]+\\n\\|'\n",
    "items = findall(pattern, data)\n",
    "for item in items:\n",
    "    print(item[1:-2])"
   ]
  },
  {
   "cell_type": "markdown",
   "metadata": {},
   "source": [
    "## 26. 強調マークアップの除去\n",
    "25の処理時に，テンプレートの値からMediaWikiの強調マークアップ（弱い強調，強調，強い強調のすべて）を除去してテキストに変換せよ（参考: [マークアップ早見表](http://ja.wikipedia.org/wiki/Help:%E6%97%A9%E8%A6%8B%E8%A1%A8)）．"
   ]
  },
  {
   "cell_type": "code",
   "execution_count": null,
   "metadata": {},
   "outputs": [],
   "source": [
    "s = 0"
   ]
  },
  {
   "cell_type": "markdown",
   "metadata": {},
   "source": [
    "## 27. 内部リンクの除去\n",
    "26の処理に加えて，テンプレートの値からMediaWikiの内部リンクマークアップを除去し，テキストに変換せよ（参考: [マークアップ早見表](http://ja.wikipedia.org/wiki/Help:%E6%97%A9%E8%A6%8B%E8%A1%A8)）．"
   ]
  },
  {
   "cell_type": "markdown",
   "metadata": {},
   "source": [
    "## 28. MediaWikiマークアップの除去\n",
    "27の処理に加えて，テンプレートの値からMediaWikiマークアップを可能な限り除去し，国の基本情報を整形せよ．"
   ]
  },
  {
   "cell_type": "markdown",
   "metadata": {},
   "source": [
    "## 29. 国旗画像のURLを取得する\n",
    "テンプレートの内容を利用し，国旗画像のURLを取得せよ．（ヒント: [MediaWiki API](http://www.mediawiki.org/wiki/API:Main_page/ja)の[imageinfo](https://www.mediawiki.org/wiki/API:Imageinfo)を呼び出して，ファイル参照をURLに変換すればよい）"
   ]
  }
 ],
 "metadata": {
  "kernelspec": {
   "display_name": "Python 3",
   "language": "python",
   "name": "python3"
  },
  "language_info": {
   "codemirror_mode": {
    "name": "ipython",
    "version": 3
   },
   "file_extension": ".py",
   "mimetype": "text/x-python",
   "name": "python",
   "nbconvert_exporter": "python",
   "pygments_lexer": "ipython3",
   "version": "3.10.8"
  }
 },
 "nbformat": 4,
 "nbformat_minor": 2
}
