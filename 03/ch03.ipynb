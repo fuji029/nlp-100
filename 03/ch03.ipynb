{
 "cells": [
  {
   "cell_type": "markdown",
   "metadata": {},
   "source": [
    "# 第３章：正規表現\n",
    "\n",
    "Wikipediaの記事を以下のフォーマットで書き出したファイル[jawiki-country.json.gz](./jawiki-country.json.gz)がある．\n",
    "\n",
    "- 1行に1記事の情報がJSON形式で格納される\n",
    "- 各行には記事名が”title”キーに，記事本文が”text”キーの辞書オブジェクトに格納され，そのオブジェクトがJSON形式で書き出される\n",
    "- ファイル全体はgzipで圧縮される\n",
    "\n",
    "以下の処理を行うプログラムを作成せよ．"
   ]
  },
  {
   "cell_type": "markdown",
   "metadata": {},
   "source": [
    "## 20. JSONデータの読み込み\n",
    "\n",
    "Wikipedia記事のJSONファイルを読み込み，「イギリス」に関する記事本文を表示せよ．問題21-29では，ここで抽出した記事本文に対して実行せよ．"
   ]
  },
  {
   "cell_type": "code",
   "execution_count": 49,
   "metadata": {},
   "outputs": [],
   "source": [
    "import json\n",
    "import gzip\n",
    "import os\n",
    "\n",
    "src_path = \"./jawiki-country.json.gz\"\n",
    "trg_path = \"./jawiki-country.json\"\n",
    "\n",
    "# gzipファイルの解凍\n",
    "if(not os.path.isfile(trg_path)):\n",
    "    with gzip.open(src_path, mode=\"rb\") as zip_f:\n",
    "        content = zip_f.read()\n",
    "        with open(trg_path, mode=\"wb\") as f:\n",
    "            f.write(content)\n",
    "\n",
    "\n",
    "# jsonファイルの読み込み\n",
    "with open(trg_path, 'r') as f:\n",
    "    wiki_data = [json.loads(line) for line in f]\n",
    "\n",
    "# タイトルがイギリスのtextを抽出し、ファイルに出力\n",
    "UK_data = [data['text'] for data in wiki_data if data['title'] == \"イギリス\"]\n",
    "UK_data = UK_data[0] if len(UK_data) else None\n",
    "with open(\"wiki_UK.txt\", \"w\", encoding='utf-8') as f:\n",
    "    f.write(UK_data)"
   ]
  },
  {
   "cell_type": "markdown",
   "metadata": {},
   "source": [
    "## 21. カテゴリ名を含む行を抽出\n",
    "\n",
    "記事中でカテゴリ名を宣言している行を抽出せよ．"
   ]
  },
  {
   "cell_type": "code",
   "execution_count": 23,
   "metadata": {},
   "outputs": [
    {
     "name": "stdout",
     "output_type": "stream",
     "text": [
      "[[Category:イギリス|*]]\n",
      "[[Category:イギリス連邦加盟国]]\n",
      "[[Category:英連邦王国|*]]\n",
      "[[Category:G8加盟国]]\n",
      "[[Category:欧州連合加盟国|元]]\n",
      "[[Category:海洋国家]]\n",
      "[[Category:現存する君主国]]\n",
      "[[Category:島国]]\n",
      "[[Category:1801年に成立した国家・領域]]\n"
     ]
    }
   ],
   "source": [
    "# 記事データの読み込み\n",
    "with open(\"./wiki_UK.txt\", \"r\") as f:\n",
    "    lines = f.read().rstrip().split(\"\\n\")\n",
    "\n",
    "# 正規表現でカテゴリ名を抽出\n",
    "from re import match\n",
    "\n",
    "pattern = r'^\\[\\[Category:'\n",
    "categories = []\n",
    "for line in lines:\n",
    "    if(match(pattern, line)):\n",
    "        categories.append(line)\n",
    "\n",
    "print(*categories, sep=\"\\n\")\n",
    "\n",
    "# 結果をファイルに出力\n",
    "with open(\"./wiki_UK_categories.txt\", \"w\") as f:\n",
    "    f.write(\"\\n\".join(categories) + \"\\n\")"
   ]
  },
  {
   "cell_type": "markdown",
   "metadata": {},
   "source": [
    "## 22. カテゴリ名の抽出\n",
    "\n",
    "記事のカテゴリ名を（行単位ではなく名前で）抽出せよ．"
   ]
  },
  {
   "cell_type": "code",
   "execution_count": 38,
   "metadata": {},
   "outputs": [
    {
     "name": "stdout",
     "output_type": "stream",
     "text": [
      "イギリス\n",
      "イギリス連邦加盟国\n",
      "英連邦王国\n",
      "G8加盟国\n",
      "欧州連合加盟国\n",
      "海洋国家\n",
      "現存する君主国\n",
      "島国\n",
      "1801年に成立した国家・領域\n"
     ]
    }
   ],
   "source": [
    "# カテゴリの行を読み込み\n",
    "with open(\"./wiki_UK_categories.txt\", \"r\") as f:\n",
    "    categories = f.read().rstrip().split(\"\\n\")\n",
    "# 正規表現でカテゴリ名を抽出\n",
    "from re import search\n",
    "\n",
    "pattern = r':[^(\\||\\])]+[\\] \\|]'\n",
    "names = []\n",
    "for category in categories:\n",
    "    name = search(pattern, category).group()\n",
    "    if(len(name)):\n",
    "        names.append(name[1:-1])\n",
    "\n",
    "print(*names, sep=\"\\n\")"
   ]
  },
  {
   "cell_type": "markdown",
   "metadata": {},
   "source": [
    "## 23. セクション構造\n",
    "\n",
    "記事中に含まれるセクション名とそのレベル（例えば”== セクション名 ==”なら1）を表示せよ．"
   ]
  },
  {
   "cell_type": "code",
   "execution_count": 48,
   "metadata": {},
   "outputs": [
    {
     "name": "stdout",
     "output_type": "stream",
     "text": [
      "1\t==国名==\n",
      "1\t==歴史==\n",
      "1\t==地理==\n",
      "2\t===主要都市===\n",
      "2\t===気候===\n",
      "1\t==政治==\n",
      "2\t===元首===\n",
      "2\t===法===\n",
      "2\t===内政===\n",
      "2\t===地方行政区分===\n",
      "2\t===外交・軍事===\n",
      "1\t==経済==\n",
      "2\t===鉱業===\n",
      "2\t===農業===\n",
      "2\t===貿易===\n",
      "2\t===不動産===\n",
      "2\t===エネルギー政策===\n",
      "2\t===通貨===\n",
      "2\t===企業===\n",
      "3\t====通信====\n",
      "1\t==交通==\n",
      "2\t===道路===\n",
      "2\t===鉄道===\n",
      "2\t===海運===\n",
      "2\t===航空===\n",
      "1\t==科学技術==\n",
      "1\t==国民==\n",
      "2\t===言語===\n",
      "2\t===宗教===\n",
      "2\t===婚姻===\n",
      "2\t===移住===\n",
      "2\t===教育===\n",
      "2\t===医療===\n",
      "1\t==文化==\n",
      "2\t===食文化===\n",
      "2\t===文学===\n",
      "2\t===哲学===\n",
      "2\t===音楽===\n",
      "3\t====ポピュラー音楽====\n",
      "2\t===映画===\n",
      "2\t===コメディ===\n",
      "2\t===国花===\n",
      "2\t===世界遺産===\n",
      "2\t===祝祭日===\n",
      "2\t===スポーツ===\n",
      "3\t====サッカー====\n",
      "3\t====クリケット====\n",
      "3\t====競馬====\n",
      "3\t====モータースポーツ====\n",
      "3\t====野球====\n",
      "3\t==== カーリング ====\n",
      "3\t==== 自転車競技 ====\n",
      "1\t==脚注==\n",
      "1\t==関連項目==\n",
      "1\t==外部リンク==\n"
     ]
    }
   ],
   "source": [
    "# 記事データの読み込み\n",
    "with open(\"./wiki_UK.txt\", \"r\") as f:\n",
    "    lines = f.read().rstrip().split(\"\\n\")\n",
    "\n",
    "# 正規表現でカテゴリ名を抽出\n",
    "from re import match\n",
    "\n",
    "pattern = r'={2,}[^=]+={2,}'\n",
    "with open(\"wiki_UK_sections.txt\", \"w\") as f:\n",
    "    for line in lines:\n",
    "        if(match(pattern, line)):\n",
    "            level = line.count(\"=\")// 2 - 1\n",
    "            f.write(str(level)+ \"\\t\" + line + \"\\n\")\n",
    "            print(level, line, sep=\"\\t\")"
   ]
  },
  {
   "cell_type": "markdown",
   "metadata": {},
   "source": [
    "## 24. ファイル参照の抽出\n",
    "\n",
    "記事から参照されているメディアファイルをすべて抜き出せ．"
   ]
  }
 ],
 "metadata": {
  "kernelspec": {
   "display_name": "Python 3",
   "language": "python",
   "name": "python3"
  },
  "language_info": {
   "codemirror_mode": {
    "name": "ipython",
    "version": 3
   },
   "file_extension": ".py",
   "mimetype": "text/x-python",
   "name": "python",
   "nbconvert_exporter": "python",
   "pygments_lexer": "ipython3",
   "version": "3.10.8"
  }
 },
 "nbformat": 4,
 "nbformat_minor": 2
}
